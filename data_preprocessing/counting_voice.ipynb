{
 "cells": [
  {
   "cell_type": "code",
   "execution_count": null,
   "id": "3fbe242b-4b98-448a-8aea-b73a920588cd",
   "metadata": {},
   "outputs": [
    {
     "name": "stdout",
     "output_type": "stream",
     "text": [
      "TEST_00000\n"
     ]
    }
   ],
   "source": [
    "import pandas as pd\n",
    "\n",
    "df = pd.read_csv('open/test.csv')\n",
    "print (df['id'][0])"
   ]
  },
  {
   "cell_type": "code",
   "execution_count": null,
   "id": "275dfa24-ae8a-44b3-92ce-1e880bb52f19",
   "metadata": {},
   "outputs": [],
   "source": [
    "from pydub import AudioSegment\n",
    "\n",
    "# def convert(audio, i):\n",
    "#     voice = AudioSegment.from_ogg(audio)\n",
    "#     dest_audio = 'open/test_wav' + df['path'][i][6:-3] + 'wav'\n",
    "#     voice.export(dest_audio, format=\"wav\")\n",
    "\n",
    "# def convert_test(i):\n",
    "#     audio_path = 'open/' + df['path'][i][2:]\n",
    "#     convert(audio_path, i)\n",
    "    \n",
    "# for i in range(50000):\n",
    "#     convert_test(i)"
   ]
  },
  {
   "cell_type": "code",
   "execution_count": 3,
   "id": "b24aab15-2443-4247-a5f7-0c76a146916c",
   "metadata": {},
   "outputs": [],
   "source": [
    "from pyannote.audio import Pipeline\n",
    "from pyannote.core import Annotation"
   ]
  },
  {
   "cell_type": "code",
   "execution_count": null,
   "id": "52b2835e",
   "metadata": {},
   "outputs": [],
   "source": [
    "pipeline = Pipeline.from_pretrained('pyannote/speaker-diarization@2.1', use_auth_token=\"     \") #use your token here"
   ]
  },
  {
   "cell_type": "code",
   "execution_count": null,
   "id": "0c8532eb",
   "metadata": {},
   "outputs": [],
   "source": [
    "def count(i):\n",
    "    path = 'open/test_wav' + df['path'][i][6:-3] + 'wav'\n",
    "    try:\n",
    "        diarization = pipeline(path, min_speakers=0, max_speakers=2)\n",
    "    except Exception as e:\n",
    "        return 0\n",
    "    speakers = set()\n",
    "    for segment, _, speaker in diarization.itertracks(yield_label=True):\n",
    "        speakers.add(speaker)\n",
    "    num_speakers = len(speakers)\n",
    "    \n",
    "    return num_speakers"
   ]
  },
  {
   "cell_type": "code",
   "execution_count": null,
   "id": "2c0acca0",
   "metadata": {},
   "outputs": [
    {
     "name": "stdout",
     "output_type": "stream",
     "text": [
      "1\n"
     ]
    }
   ],
   "source": [
    "def count():\n",
    "    path = 'denoise_wav/TEST_00046.wav'\n",
    "    try:\n",
    "        diarization = pipeline(path, min_speakers=0, max_speakers=2)\n",
    "    except Exception as e:\n",
    "        return 0\n",
    "    speakers = set()\n",
    "    for segment, _, speaker in diarization.itertracks(yield_label=True):\n",
    "        speakers.add(speaker)\n",
    "    num_speakers = len(speakers)\n",
    "    \n",
    "    return num_speakers\n",
    "\n",
    "a = count()\n",
    "print(a)"
   ]
  },
  {
   "cell_type": "code",
   "execution_count": null,
   "id": "b6268ef1",
   "metadata": {},
   "outputs": [],
   "source": [
    "num_list = []\n",
    "\n",
    "for i in range(50000):\n",
    "    if (i%1000 == 0): print(int(i/1000))\n",
    "    num = count(i)\n",
    "    num_list.append(num)"
   ]
  },
  {
   "cell_type": "code",
   "execution_count": null,
   "id": "5b7361be",
   "metadata": {},
   "outputs": [],
   "source": [
    "import csv\n",
    "import pandas as pd\n",
    "import numpy as np\n",
    "\n",
    "df = pd.read_csv('open/test.csv')\n",
    "np_df = df['path'].to_numpy()\n",
    "new_df = []\n",
    "for n in np_df:\n",
    "    new_df.append(n[7:-4])"
   ]
  },
  {
   "cell_type": "code",
   "execution_count": null,
   "id": "590b055d",
   "metadata": {},
   "outputs": [],
   "source": [
    "df1 = pd.DataFrame(data = num_list, index = new_df, columns = ['cnt'])\n",
    "df1.to_csv('open/test_num_50000.csv', index=True)"
   ]
  }
 ],
 "metadata": {
  "kernelspec": {
   "display_name": "specrnet",
   "language": "python",
   "name": "specrnet"
  },
  "language_info": {
   "codemirror_mode": {
    "name": "ipython",
    "version": 3
   },
   "file_extension": ".py",
   "mimetype": "text/x-python",
   "name": "python",
   "nbconvert_exporter": "python",
   "pygments_lexer": "ipython3",
   "version": "3.7.16"
  }
 },
 "nbformat": 4,
 "nbformat_minor": 5
}
